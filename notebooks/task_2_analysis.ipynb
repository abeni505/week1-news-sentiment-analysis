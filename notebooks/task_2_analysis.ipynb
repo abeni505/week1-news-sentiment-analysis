{
 "cells": [
  {
   "cell_type": "markdown",
   "metadata": {},
   "source": [
    "Load and prepare the data."
   ]
  },
  {
   "cell_type": "code",
   "execution_count": 3,
   "metadata": {},
   "outputs": [
    {
     "name": "stderr",
     "output_type": "stream",
     "text": [
      "/var/folders/g_/m25c6v895h36wbhhdpssj2rh0000gp/T/ipykernel_5117/1659742424.py:7: FutureWarning: YF.download() has changed argument auto_adjust default to True\n",
      "  stock_data = yf.download(stock_symbol, start=start_date, end=end_date)\n",
      "[*********************100%***********************]  1 of 1 completed"
     ]
    },
    {
     "name": "stdout",
     "output_type": "stream",
     "text": [
      "Columns in stock_data after download (before flattening):\n",
      "MultiIndex([( 'Close', 'AAPL'),\n",
      "            (  'High', 'AAPL'),\n",
      "            (   'Low', 'AAPL'),\n",
      "            (  'Open', 'AAPL'),\n",
      "            ('Volume', 'AAPL')],\n",
      "           names=['Price', 'Ticker'])\n",
      "\n",
      "Columns in stock_data after flattening:\n",
      "Index(['Close', 'High', 'Low', 'Open', 'Volume'], dtype='object')\n",
      "\n",
      "First 5 rows of stock_data after flattening:\n",
      "                 Close        High         Low        Open    Volume\n",
      "Date                                                                \n",
      "2024-01-02  184.290436  187.070083  182.553158  185.789453  82488700\n",
      "2024-01-03  182.910522  184.528677  182.096477  182.880742  58414500\n",
      "2024-01-04  180.587555  181.758969  179.565044  180.825800  71983600\n",
      "2024-01-05  179.862839  181.431354  178.860187  180.666963  62303300\n",
      "2024-01-08  184.210999  184.250716  180.180517  180.766224  59144500\n",
      "\n",
      "Stock data head after dropna (if applicable):\n",
      "                 Close        High         Low        Open    Volume\n",
      "Date                                                                \n",
      "2024-01-02  184.290436  187.070083  182.553158  185.789453  82488700\n",
      "2024-01-03  182.910522  184.528677  182.096477  182.880742  58414500\n",
      "2024-01-04  180.587555  181.758969  179.565044  180.825800  71983600\n",
      "2024-01-05  179.862839  181.431354  178.860187  180.666963  62303300\n",
      "2024-01-08  184.210999  184.250716  180.180517  180.766224  59144500\n"
     ]
    },
    {
     "name": "stderr",
     "output_type": "stream",
     "text": [
      "\n"
     ]
    }
   ],
   "source": [
    "import yfinance as yf\n",
    "import pandas as pd\n",
    "\n",
    "stock_symbol = \"AAPL\"\n",
    "start_date = \"2024-01-01\"\n",
    "end_date = \"2025-06-01\"\n",
    "stock_data = yf.download(stock_symbol, start=start_date, end=end_date)\n",
    "\n",
    "print(\"Columns in stock_data after download (before flattening):\")\n",
    "print(stock_data.columns)\n",
    "\n",
    "# Flatten the MultiIndex columns\n",
    "# This takes the second level of the MultiIndex (which is 'AAPL' in your case)\n",
    "# and if the first level is 'Price', it will use the first level.\n",
    "# A simpler approach is to use the second level if you are only downloading one ticker.\n",
    "stock_data.columns = [col[0] for col in stock_data.columns.values]\n",
    "\n",
    "# Alternatively, if you want to be more explicit about handling the 'Price' level\n",
    "# and the ticker symbol:\n",
    "# stock_data.columns = ['_'.join(col).strip() if isinstance(col, tuple) else col for col in stock_data.columns.values]\n",
    "# If you are sure about the structure, simply accessing the first element of the tuple:\n",
    "# stock_data.columns = [col[0] for col in stock_data.columns]\n",
    "\n",
    "\n",
    "print(\"\\nColumns in stock_data after flattening:\")\n",
    "print(stock_data.columns)\n",
    "print(\"\\nFirst 5 rows of stock_data after flattening:\")\n",
    "print(stock_data.head())\n",
    "\n",
    "\n",
    "required_cols = ['Open', 'High', 'Low', 'Close', 'Volume']\n",
    "\n",
    "if not all(col in stock_data.columns for col in required_cols):\n",
    "    print(\"Warning: Missing one or more required columns after flattening.\")\n",
    "    missing_cols = [col for col in required_cols if col not in stock_data.columns]\n",
    "    print(f\"Missing columns: {missing_cols}\")\n",
    "else:\n",
    "    # Now that the columns are flattened, this should work correctly\n",
    "    stock_data.dropna(subset=required_cols, inplace=True)\n",
    "\n",
    "print(\"\\nStock data head after dropna (if applicable):\")\n",
    "print(stock_data.head())"
   ]
  },
  {
   "cell_type": "markdown",
   "metadata": {},
   "source": [
    "Applying Analysis Indicators with TA-Lib\n",
    "we can use TA-Lib to calculate various technical indicators such as\n",
    "moving averages, RSI (Relative Strength Index), and MACD (Moving\n",
    "Average Convergence Divergence)"
   ]
  },
  {
   "cell_type": "code",
   "execution_count": 4,
   "metadata": {},
   "outputs": [
    {
     "name": "stdout",
     "output_type": "stream",
     "text": [
      "Stock data with new indicators:\n",
      "                 Close        High         Low        Open    Volume  \\\n",
      "Date                                                                   \n",
      "2025-05-23  195.270004  197.699997  193.460007  193.669998  78432900   \n",
      "2025-05-27  200.210007  200.740005  197.429993  198.300003  56288500   \n",
      "2025-05-28  200.419998  202.729996  199.899994  200.589996  45339700   \n",
      "2025-05-29  199.949997  203.809998  198.509995  203.580002  51396800   \n",
      "2025-05-30  200.850006  201.960007  196.779999  199.369995  70819900   \n",
      "\n",
      "                SMA_10      EMA_20        RSI      MACD  MACD_Signal  \\\n",
      "Date                                                                   \n",
      "2025-05-23  207.311998  204.719983  38.828188 -1.065059    -0.380201   \n",
      "2025-05-27  206.253999  204.290462  44.869601 -1.301828    -0.564526   \n",
      "2025-05-28  205.003000  203.921846  45.117730 -1.455743    -0.742770   \n",
      "2025-05-29  203.764999  203.543575  44.633524 -1.597235    -0.913663   \n",
      "2025-05-30  202.705000  203.287044  45.832349 -1.618094    -1.054549   \n",
      "\n",
      "            MACD_Hist  Daily_Return  \n",
      "Date                                 \n",
      "2025-05-23  -0.684858     -0.030244  \n",
      "2025-05-27  -0.737301      0.025298  \n",
      "2025-05-28  -0.712973      0.001049  \n",
      "2025-05-29  -0.683573     -0.002345  \n",
      "2025-05-30  -0.563545      0.004501  \n"
     ]
    }
   ],
   "source": [
    "import talib\n",
    "# Assuming stock_data is already loaded and columns are flattened\n",
    "\n",
    "# Calculate Moving Averages\n",
    "stock_data['SMA_10'] = talib.SMA(stock_data['Close'], timeperiod=10)\n",
    "stock_data['EMA_20'] = talib.EMA(stock_data['Close'], timeperiod=20)\n",
    "\n",
    "# Calculate RSI\n",
    "stock_data['RSI'] = talib.RSI(stock_data['Close'], timeperiod=14)\n",
    "\n",
    "# Calculate MACD\n",
    "macd, macdsignal, macdhist = talib.MACD(stock_data['Close'], fastperiod=12, slowperiod=26, signalperiod=9)\n",
    "stock_data['MACD'] = macd\n",
    "stock_data['MACD_Signal'] = macdsignal\n",
    "stock_data['MACD_Hist'] = macdhist\n",
    "\n",
    "# For Task 3 preparation, calculate Daily Returns here as well\n",
    "stock_data['Daily_Return'] = stock_data['Close'].pct_change()\n",
    "\n",
    "print(\"Stock data with new indicators:\")\n",
    "print(stock_data.tail())"
   ]
  }
 ],
 "metadata": {
  "kernelspec": {
   "display_name": "venv-10academy",
   "language": "python",
   "name": "python3"
  },
  "language_info": {
   "codemirror_mode": {
    "name": "ipython",
    "version": 3
   },
   "file_extension": ".py",
   "mimetype": "text/x-python",
   "name": "python",
   "nbconvert_exporter": "python",
   "pygments_lexer": "ipython3",
   "version": "3.12.2"
  }
 },
 "nbformat": 4,
 "nbformat_minor": 2
}
