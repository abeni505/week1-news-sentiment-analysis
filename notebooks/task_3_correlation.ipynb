{
 "cells": [
  {
   "cell_type": "markdown",
   "metadata": {},
   "source": [
    "# Correlation Analysis: News Sentiment and Stock Movement (Task 3)\n",
    "\n",
    "## Notebook Overview\n",
    "\n",
    "This notebook focuses on **Task 3: Correlation between news and stock movement**. It covers the integration of financial news sentiment with stock price data, performs sentiment analysis on headlines, and calculates the correlation between news sentiment and daily stock returns.\n",
    "\n",
    "### Objectives:\n",
    "* Align news and stock data by date.\n",
    "* Conduct sentiment analysis on news headlines.\n",
    "* Calculate daily stock returns.\n",
    "* Determine the correlation between news sentiment and stock movements."
   ]
  },
  {
   "cell_type": "markdown",
   "metadata": {},
   "source": [
    "## 1. Setup and Data Loading\n",
    "\n",
    "This section prepares the environment and loads the necessary datasets for correlation analysis.\n",
    "\n",
    "### 1.1 Import Libraries\n",
    "\n",
    "We'll import `pandas` for data manipulation, `yfinance` to potentially re-load stock data, and `nltk`/`textblob` for sentiment analysis."
   ]
  },
  {
   "cell_type": "code",
   "execution_count": 2,
   "metadata": {},
   "outputs": [
    {
     "name": "stdout",
     "output_type": "stream",
     "text": [
      "Libraries imported and NLTK data checked.\n"
     ]
    }
   ],
   "source": [
    "# Code Cell: Import Libraries\n",
    "import pandas as pd\n",
    "import yfinance as yf\n",
    "import matplotlib.pyplot as plt\n",
    "import seaborn as sns\n",
    "from nltk.sentiment.vader import SentimentIntensityAnalyzer\n",
    "import nltk\n",
    "\n",
    "# Download NLTK data (run only if not already downloaded)\n",
    "# try:\n",
    "#     nltk.data.find('sentiment/vader_lexicon')\n",
    "# except nltk.downloader.DownloadError:\n",
    "#     nltk.download('vader_lexicon')\n",
    "\n",
    "# Configure plot styles\n",
    "sns.set_theme(style=\"whitegrid\")\n",
    "plt.rcParams['figure.figsize'] = (12, 6) # Default figure size\n",
    "\n",
    "print(\"Libraries imported and NLTK data checked.\")"
   ]
  },
  {
   "cell_type": "markdown",
   "metadata": {},
   "source": [
    "### 1.2 Load Stock and News Data\n",
    "\n",
    "We load the processed stock data (which ideally includes 'Daily_Return' from Task 2) and the raw financial news dataset. We'll re-load stock data directly here for notebook self-containment, ensuring columns are flattened."
   ]
  },
  {
   "cell_type": "code",
   "execution_count": 11,
   "metadata": {},
   "outputs": [
    {
     "name": "stdout",
     "output_type": "stream",
     "text": [
      "\n",
      "Loaded news data from ../data/raw_analyst_ratings.csv\n",
      "\n",
      "--- Attempting Date Column Conversion ---\n",
      "Original 'date' column dtype: object\n",
      "Sample raw date values: ['2020-06-05 10:30:54-04:00', '2020-06-03 10:45:20-04:00', '2020-05-26 04:30:07-04:00', '2020-05-22 12:45:06-04:00', '2020-05-22 11:38:59-04:00']\n",
      "Dropped 1351341 rows from news data due to unparseable dates.\n",
      "Date column already contains timezone information.\n",
      "Date column converted to UTC.\n",
      "News 'date' column processed and 'date_only' created.\n",
      "\n",
      "News Data Head (after date processing):\n",
      "                                            headline  \\\n",
      "0            Stocks That Hit 52-Week Highs On Friday   \n",
      "1         Stocks That Hit 52-Week Highs On Wednesday   \n",
      "2                      71 Biggest Movers From Friday   \n",
      "3       46 Stocks Moving In Friday's Mid-Day Session   \n",
      "4  B of A Securities Maintains Neutral on Agilent...   \n",
      "\n",
      "                       date                 date_only  \n",
      "0 2020-06-05 14:30:54+00:00 2020-06-05 00:00:00+00:00  \n",
      "1 2020-06-03 14:45:20+00:00 2020-06-03 00:00:00+00:00  \n",
      "2 2020-05-26 08:30:07+00:00 2020-05-26 00:00:00+00:00  \n",
      "3 2020-05-22 16:45:06+00:00 2020-05-22 00:00:00+00:00  \n",
      "4 2020-05-22 15:38:59+00:00 2020-05-22 00:00:00+00:00  \n"
     ]
    }
   ],
   "source": [
    "# Code Cell: Load News Data\n",
    "news_data_path = '../data/raw_analyst_ratings.csv' # Adjust path as needed based on your file location\n",
    "\n",
    "try:\n",
    "    news_df = pd.read_csv(news_data_path)\n",
    "    print(f\"\\nLoaded news data from {news_data_path}\")\n",
    "except FileNotFoundError:\n",
    "    print(f\"Error: News data file not found at {news_data_path}. Please create or adjust path.\")\n",
    "    # Create an empty DataFrame with expected columns for graceful handling downstream\n",
    "    news_df = pd.DataFrame(columns=['headline', 'date', 'stock'])\n",
    "except Exception as e:\n",
    "    print(f\"An unexpected error occurred while loading news data: {e}\")\n",
    "    news_df = pd.DataFrame(columns=['headline', 'date', 'stock'])\n",
    "\n",
    "\n",
    "# Convert 'date' column to datetime and normalize\n",
    "if 'date' in news_df.columns:\n",
    "    print(\"\\n--- Attempting Date Column Conversion ---\")\n",
    "    print(f\"Original 'date' column dtype: {news_df['date'].dtype}\")\n",
    "    print(f\"Sample raw date values: {news_df['date'].head(5).tolist()}\") # Inspect this output carefully!\n",
    "\n",
    "    # Convert to datetime, coercing errors to NaT (Not a Time)\n",
    "    news_df['date'] = pd.to_datetime(news_df['date'], errors='coerce')\n",
    "\n",
    "    # Drop rows where date could not be parsed\n",
    "    initial_news_rows = news_df.shape[0]\n",
    "    news_df.dropna(subset=['date'], inplace=True)\n",
    "    rows_after_date_dropna = news_df.shape[0]\n",
    "    if initial_news_rows != rows_after_date_dropna:\n",
    "        print(f\"Dropped {initial_news_rows - rows_after_date_dropna} rows from news data due to unparseable dates.\")\n",
    "\n",
    "    # Handle timezone as specified in the challenge: \"UTC-4 timezone\" \n",
    "    # If the date strings already have timezone info, tz_localize will warn or fail,\n",
    "    # so we first check if timezone info is present.\n",
    "    if news_df['date'].dt.tz is None:\n",
    "        # If no timezone info, assume it's in America/New_York (UTC-4/EST/EDT) \n",
    "        news_df['date'] = news_df['date'].dt.tz_localize('America/New_York', ambiguous='infer', nonexistent='NaT')\n",
    "        print(\"Date column localized to 'America/New_York' timezone.\")\n",
    "    else:\n",
    "        print(\"Date column already contains timezone information.\")\n",
    "\n",
    "    # Convert all dates to UTC for consistency in analysis\n",
    "    news_df['date'] = news_df['date'].dt.tz_convert('UTC')\n",
    "    print(\"Date column converted to UTC.\")\n",
    "\n",
    "\n",
    "    # Create a 'date_only' column for merging, normalized to the start of the day in UTC\n",
    "    news_df['date_only'] = news_df['date'].dt.normalize()\n",
    "    print(\"News 'date' column processed and 'date_only' created.\")\n",
    "else:\n",
    "    print(\"Warning: 'date' column not found in news_df. Cannot process dates.\")\n",
    "\n",
    "print(\"\\nNews Data Head (after date processing):\")\n",
    "print(news_df[['headline', 'date', 'date_only']].head())"
   ]
  },
  {
   "cell_type": "markdown",
   "metadata": {},
   "source": [
    "## 2. Sentiment Analysis\n",
    "\n",
    "This section performs sentiment analysis on the news headlines to quantify their emotional tone. We use NLTK's VADER (Valence Aware Dictionary and sEntiment Reasoner) for its effectiveness with social media and news-like text."
   ]
  },
  {
   "cell_type": "code",
   "execution_count": 12,
   "metadata": {},
   "outputs": [
    {
     "name": "stdout",
     "output_type": "stream",
     "text": [
      "Attempting to download 'vader_lexicon'...\n",
      "'vader_lexicon' downloaded successfully!\n",
      "\n",
      "Attempting to download 'punkt' (often needed for TextBlob, good to have):\n",
      "'punkt' downloaded successfully!\n"
     ]
    },
    {
     "name": "stderr",
     "output_type": "stream",
     "text": [
      "[nltk_data] Downloading package vader_lexicon to\n",
      "[nltk_data]     /Users/Abeni/nltk_data...\n",
      "[nltk_data]   Package vader_lexicon is already up-to-date!\n",
      "[nltk_data] Downloading package punkt to /Users/Abeni/nltk_data...\n",
      "[nltk_data]   Package punkt is already up-to-date!\n"
     ]
    }
   ],
   "source": [
    "import nltk\n",
    "\n",
    "# Define a custom directory for NLTK data (optional, but can help if default paths have permission issues)\n",
    "# If you choose a custom path, remember to add it to NLTK's data path later\n",
    "# nltk.data.path.append('/path/to/your/nltk_data_directory')\n",
    "\n",
    "print(\"Attempting to download 'vader_lexicon'...\")\n",
    "try:\n",
    "    nltk.download('vader_lexicon')\n",
    "    print(\"'vader_lexicon' downloaded successfully!\")\n",
    "except Exception as e:\n",
    "    print(f\"Error during NLTK download: {e}\")\n",
    "    print(\"Please ensure you have an active internet connection and sufficient disk space.\")\n",
    "\n",
    "print(\"\\nAttempting to download 'punkt' (often needed for TextBlob, good to have):\")\n",
    "try:\n",
    "    nltk.download('punkt')\n",
    "    print(\"'punkt' downloaded successfully!\")\n",
    "except Exception as e:\n",
    "    print(f\"Error during NLTK download: {e}\")\n",
    "    print(\"Please ensure you have an active internet connection and sufficient disk space.\")\n",
    "\n",
    "# You can also list all downloaded packages to verify\n",
    "# print(\"\\nNLTK packages info:\")\n",
    "# nltk.download('all', download_dir='./nltk_data', quiet=True) # Downloads all to a local folder\n",
    "# You might then need to add: nltk.data.path.append('./nltk_data')"
   ]
  },
  {
   "cell_type": "code",
   "execution_count": 13,
   "metadata": {},
   "outputs": [
    {
     "name": "stdout",
     "output_type": "stream",
     "text": [
      "VADER sentiment scores calculated for news headlines.\n",
      "\n",
      "News data with sentiment_score (first 5 rows):\n",
      "                                            headline  sentiment_score\n",
      "0            Stocks That Hit 52-Week Highs On Friday            0.000\n",
      "1         Stocks That Hit 52-Week Highs On Wednesday            0.000\n",
      "2                      71 Biggest Movers From Friday            0.000\n",
      "3       46 Stocks Moving In Friday's Mid-Day Session            0.000\n",
      "4  B of A Securities Maintains Neutral on Agilent...            0.296\n",
      "\n",
      "Sentiment Score Statistics:\n",
      "count    55987.000000\n",
      "mean         0.066572\n",
      "std          0.313522\n",
      "min         -0.938200\n",
      "25%          0.000000\n",
      "50%          0.000000\n",
      "75%          0.202300\n",
      "max          0.966600\n",
      "Name: sentiment_score, dtype: float64\n"
     ]
    },
    {
     "data": {
      "image/png": "[encoded data removed]",
      "text/plain": [
       "<Figure size 1000x500 with 1 Axes>"
      ]
     },
     "metadata": {},
     "output_type": "display_data"
    }
   ],
   "source": [
    "# Code Cell: Perform Sentiment Analysis \n",
    "if 'headline' in news_df.columns:\n",
    "    analyzer = SentimentIntensityAnalyzer()\n",
    "\n",
    "    # Function to get VADER compound sentiment score \n",
    "    def get_vader_compound_sentiment(text):\n",
    "        if pd.isna(text) or text is None:\n",
    "            return 0.0 # Assign neutral sentiment for missing/empty headlines\n",
    "        return analyzer.polarity_scores(str(text))['compound']\n",
    "\n",
    "    news_df['sentiment_score'] = news_df['headline'].apply(get_vader_compound_sentiment)\n",
    "    print(\"VADER sentiment scores calculated for news headlines.\")\n",
    "    print(\"\\nNews data with sentiment_score (first 5 rows):\")\n",
    "    print(news_df[['headline', 'sentiment_score']].head())\n",
    "else:\n",
    "    print(\"Error: 'headline' column not found in news_df. Skipping sentiment analysis.\")\n",
    "\n",
    "# Basic descriptive statistics of sentiment scores\n",
    "print(\"\\nSentiment Score Statistics:\")\n",
    "print(news_df['sentiment_score'].describe())\n",
    "\n",
    "# Histogram of sentiment scores\n",
    "plt.figure(figsize=(10, 5))\n",
    "sns.histplot(news_df['sentiment_score'], bins=30, kde=True)\n",
    "plt.title('Distribution of News Headline Sentiment Scores (VADER Compound)')\n",
    "plt.xlabel('Sentiment Score (-1 to 1)')\n",
    "plt.ylabel('Frequency')\n",
    "plt.show()"
   ]
  }
 ],
 "metadata": {
  "kernelspec": {
   "display_name": "venv-10academy",
   "language": "python",
   "name": "python3"
  },
  "language_info": {
   "codemirror_mode": {
    "name": "ipython",
    "version": 3
   },
   "file_extension": ".py",
   "mimetype": "text/x-python",
   "name": "python",
   "nbconvert_exporter": "python",
   "pygments_lexer": "ipython3",
   "version": "3.12.2"
  }
 },
 "nbformat": 4,
 "nbformat_minor": 2
}
